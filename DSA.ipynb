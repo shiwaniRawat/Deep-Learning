{
  "nbformat": 4,
  "nbformat_minor": 0,
  "metadata": {
    "colab": {
      "name": "Untitled8.ipynb",
      "provenance": [],
      "authorship_tag": "ABX9TyMjyPnP0VsY5DrwBqOLR/gf",
      "include_colab_link": true
    },
    "kernelspec": {
      "name": "python3",
      "display_name": "Python 3"
    }
  },
  "cells": [
    {
      "cell_type": "markdown",
      "metadata": {
        "id": "view-in-github",
        "colab_type": "text"
      },
      "source": [
        "<a href=\"https://colab.research.google.com/github/shiwaniRawat/Deep-Learning/blob/master/DSA.ipynb\" target=\"_parent\"><img src=\"https://colab.research.google.com/assets/colab-badge.svg\" alt=\"Open In Colab\"/></a>"
      ]
    },
    {
      "cell_type": "code",
      "metadata": {
        "id": "SozVO42-fL3K",
        "colab_type": "code",
        "colab": {
          "base_uri": "https://localhost:8080/",
          "height": 136
        },
        "outputId": "7a1dd387-e50e-4338-9b38-3643049fad27"
      },
      "source": [
        "class Node:\n",
        "    def __init__(self,data):\n",
        "        self.right=self.left=None\n",
        "        self.data = data\n",
        "class Solution:\n",
        "    def insert(self,root,data):\n",
        "        if root==None:\n",
        "            return Node(data)\n",
        "        else:\n",
        "            if data<=root.data:\n",
        "                cur=self.insert(root.left,data)\n",
        "                root.left=cur\n",
        "            else:\n",
        "                cur=self.insert(root.right,data)\n",
        "                root.right=cur\n",
        "        return root\n",
        "        \n",
        "    def getHeight(self,root):\n",
        "        m = s()\n",
        "        temp = m.getHeightUtil(root)\n",
        "        return temp \n",
        "class s:\n",
        "    def method1(self,root):\n",
        "        print (root.data)\n",
        "        \n",
        "    def getHeightUtil(self,root):\n",
        "        if root == None:\n",
        "            return 0\n",
        "        lh = self.getHeightUtil(root.left)\n",
        "        rh = self.getHeightUtil(root.right)\n",
        "        if lh>rh:\n",
        "            return lh+1\n",
        "        else:\n",
        "            return rh+1\n",
        "T=int(input());\n",
        "myTree=Solution()\n",
        "root=None\n",
        "for i in range(T):\n",
        "    # float( )\n",
        "    data=float(input())\n",
        "    root=myTree.insert(root,data)\n",
        "height=myTree.getHeight(root)\n",
        "print (\"height\",str(height))       "
      ],
      "execution_count": 10,
      "outputs": [
        {
          "output_type": "stream",
          "text": [
            "5\n",
            "-1\n",
            "0\n",
            "4\n",
            "0\n",
            "3\n",
            "height 4\n"
          ],
          "name": "stdout"
        }
      ]
    },
    {
      "cell_type": "code",
      "metadata": {
        "id": "39JZwXDWlqNP",
        "colab_type": "code",
        "colab": {}
      },
      "source": [
        "class check:\n",
        "    def __init__(self, bracket, position):\n",
        "        self.bracket = bracket\n",
        "        self.position = position\n",
        "\n",
        "    def match(self, c):\n",
        "        if self.bracket == '[' and c == ']':\n",
        "            return True\n",
        "        if self.bracket == '{' and c == '}':\n",
        "            return True\n",
        "        if self.bracket == '(' and c == ')':\n",
        "            return True\n",
        "        return False\n",
        "\n"
      ],
      "execution_count": 3,
      "outputs": []
    },
    {
      "cell_type": "code",
      "metadata": {
        "id": "Cu3ANTAZnGvW",
        "colab_type": "code",
        "colab": {
          "base_uri": "https://localhost:8080/",
          "height": 51
        },
        "outputId": "a8c23926-3fe8-431c-f938-d2841d946faf"
      },
      "source": [
        "if __name__ == \"__main__\":\n",
        "    text = input()\n",
        "    error_pos = 0\n",
        "    opening_brackets_stack = []\n",
        "    for i, next in enumerate(text):\n",
        "        if next == '(' or next == '[' or next == '{':\n",
        "            b = check(next, i+1)\n",
        "            opening_brackets_stack.append(b)\n",
        "\n",
        "        if next == ')' or next == ']' or next == '}':\n",
        "            if not opening_brackets_stack:\n",
        "                error_pos = i + 1\n",
        "                break\n",
        "            top = opening_brackets_stack.pop()\n",
        "            if not top.match(next):\n",
        "                error_pos = i + 1\n",
        "                break\n",
        "\n",
        "    if(error_pos==0 and not opening_brackets_stack):\n",
        "        print (\"Success\")\n",
        "    else:\n",
        "        if(error_pos == 0):\n",
        "            while(len(opening_brackets_stack)>1):\n",
        "                opening_brackets_stack.pop()\n",
        "            error_pos = opening_brackets_stack[-1].position\n",
        "        print (error_pos)"
      ],
      "execution_count": 4,
      "outputs": [
        {
          "output_type": "stream",
          "text": [
            "foo(bar);\n",
            "Success\n"
          ],
          "name": "stdout"
        }
      ]
    },
    {
      "cell_type": "code",
      "metadata": {
        "id": "f3ZibpukvZKm",
        "colab_type": "code",
        "colab": {}
      },
      "source": [
        ""
      ],
      "execution_count": null,
      "outputs": []
    }
  ]
}